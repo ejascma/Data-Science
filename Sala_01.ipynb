{
  "cells": [
    {
      "cell_type": "markdown",
      "metadata": {
        "id": "view-in-github",
        "colab_type": "text"
      },
      "source": [
        "<a href=\"https://colab.research.google.com/github/ejascma/Data-Science/blob/main/Sala_01.ipynb\" target=\"_parent\"><img src=\"https://colab.research.google.com/assets/colab-badge.svg\" alt=\"Open In Colab\"/></a>"
      ]
    },
    {
      "cell_type": "markdown",
      "source": [
        "Descrição:\n",
        "Você foi contratado para desenvolver um sistema básico de gerenciamento de funcionários para uma pequena empresa. O sistema deve ser capaz de receber e  armazenar informações sobre os funcionários e realizar operações básicas de manipulação desses dados.\n",
        "\n",
        "Requisitos:\n",
        "Utilize a função input() realizar um cadastro coletando dados do usuário, como nome, cidade e estado em que reside, idade, escolaridade, cargo e salário.\n",
        "\n",
        "Funcionalidades do Sistema:\n",
        "O sistema deve oferecer as seguintes funcionalidades:\n",
        "Adicionar um novo funcionário ao sistema, solicitando informações como nome, cargo, salário, e-mail, etc.\n",
        "Atualizar as informações de um funcionário existente com base em um identificador único (como um número de identificação ou nome). Exibir informações de um funcionário específico.\n",
        "Listar todos os funcionários cadastrados.\n",
        "Permitir a remoção de um funcionário do sistema.\n",
        "Observações Finais: Certifique-se de implementar um sistema de identificação único para cada funcionário. Valide as entradas do usuário para garantir que as operações sejam realizadas corretamente e sem erros. Documente adequadamente seu código com comentários explicativos para ajudar na compreensão. Esse projeto permite aos alunos praticar e consolidar conceitos fundamentais em Python, como operadores, estruturas de controle, estruturas de dados e funções, enquanto constroem um aplicativo útil para gerenciar informações de funcionários de uma empresa fictícia.\n"
      ],
      "metadata": {
        "id": "0zgEU3KiwY_X"
      }
    },
    {
      "cell_type": "code",
      "execution_count": null,
      "metadata": {
        "colab": {
          "background_save": true
        },
        "id": "m6rb00HJ79l2"
      },
      "outputs": [],
      "source": [
        "\n",
        "# funções funcionando\n",
        "# Adiciona funcionário\n",
        "funcionarios = {}\n",
        "\n",
        "def checa_identificador(identificador):\n",
        "    if identificador not in funcionarios:\n",
        "        return True\n",
        "    else:\n",
        "        print(\"Identificador já existe!\")\n",
        "        return False\n",
        "\n",
        "def adicionar_funcionario():\n",
        "    global identificador\n",
        "    print(\"\\nAdicionar novo funcionário:\")\n",
        "    identificador = input(\"Digite um identificador único para o funcionário: \")\n",
        "\n",
        "    if checa_identificador(identificador):\n",
        "        nome = input(\"Nome: \")\n",
        "        email = input(\"E-mail: \")\n",
        "        cidade = input(\"Cidade: \")\n",
        "        estado = input(\"Estado: \")\n",
        "        idade = input(\"Idade: \")\n",
        "        escolaridade = input(\"Escolaridade: \")\n",
        "        cargo = input(\"Cargo: \")\n",
        "        salario = input(\"Salário: \")\n",
        "\n",
        "        # Adiciona as informações ao dicionário\n",
        "        funcionarios[identificador] = {\n",
        "            'Nome': nome,\n",
        "            'Email': email,\n",
        "            'Cidade': cidade,\n",
        "            'Estado': estado,\n",
        "            'Idade': idade,\n",
        "            'Escolaridade': escolaridade,\n",
        "            'Cargo': cargo,\n",
        "            'Salário': salario\n",
        "        }\n",
        "        print(\"Funcionário adicionado com sucesso!\")\n",
        "\n",
        "def atualizar_funcionario():\n",
        "    print(\"\\nAtualizar informações de um funcionário:\")\n",
        "    identificador = input(\"Digite o identificador único do funcionário a ser atualizado: \")\n",
        "    if identificador in funcionarios:\n",
        "        # Atualiza as informações do funcionário\n",
        "        print(f\"Atualizando informações para o funcionário {funcionarios[identificador]['Nome']}:\")\n",
        "        funcionarios[identificador]['Cargo'] = input(\"Novo cargo: \")\n",
        "        funcionarios[identificador]['Salário'] = input(\"Novo salário: \")\n",
        "        print(\"Informações atualizadas com sucesso!\")\n",
        "    else:\n",
        "        print(\"Funcionário não encontrado.\")\n",
        "\n",
        "def exibir_funcionario():\n",
        "    print(\"\\nExibir informações de um funcionário:\")\n",
        "    identificador = input(\"Digite o identificador único do funcionário: \")\n",
        "    if identificador in funcionarios:\n",
        "        # Exibe as informações do funcionário\n",
        "        print(f\"Informações do funcionário {funcionarios[identificador]['Nome']}:\")\n",
        "        for chave, valor in funcionarios[identificador].items():\n",
        "            print(f\"{chave}: {valor}\")\n",
        "    else:\n",
        "        print(\"Funcionário não encontrado.\")\n",
        "\n",
        "def listar_funcionarios():\n",
        "    print(\"\\nLista de todos os funcionários cadastrados:\")\n",
        "    for identificador, info in funcionarios.items():\n",
        "        print(f\"ID: {identificador}, Nome: {info['Nome']}, E-mail: {info['Email']}, Cargo: {info['Cargo']}, Salário: {info['Salário']}\")\n",
        "\n",
        "def remover_funcionario():\n",
        "    print(\"\\nRemover funcionário:\")\n",
        "    identificador = input(\"Digite o identificador único do funcionário a ser removido: \")\n",
        "    if identificador in funcionarios:\n",
        "        # Remove o funcionário do dicionário\n",
        "        del funcionarios[identificador]\n",
        "        print(\"Funcionário removido com sucesso!\")\n",
        "    else:\n",
        "        print(\"Funcionário não encontrado.\")\n",
        "\n",
        "# Loop principal do programa\n",
        "while True:\n",
        "    print(\"\\nSistema de Gerenciamento de Funcionários\")\n",
        "    print(\"1. Adicionar Funcionário\")\n",
        "    print(\"2. Atualizar Funcionário\")\n",
        "    print(\"3. Exibir Informações de um Funcionário\")\n",
        "    print(\"4. Listar Todos os Funcionários\")\n",
        "    print(\"5. Remover Funcionário\")\n",
        "    print(\"6. Sair\")\n",
        "\n",
        "    escolha = input(\"Escolha uma opção (1-6): \")\n",
        "\n",
        "    if escolha == '1':\n",
        "        adicionar_funcionario()\n",
        "    elif escolha == '2':\n",
        "        atualizar_funcionario()\n",
        "    elif escolha == '3':\n",
        "        exibir_funcionario()\n",
        "    elif escolha == '4':\n",
        "        listar_funcionarios()\n",
        "    elif escolha == '5':\n",
        "        remover_funcionario()\n",
        "    elif escolha == '6':        print(\"Saindo do sistema. Até logo!\")\n",
        "        break\n",
        "    else:\n",
        "        print(\"Opção inválida. Tente novamente.\")\n"
      ]
    }
  ],
  "metadata": {
    "colab": {
      "provenance": [],
      "include_colab_link": true
    },
    "kernelspec": {
      "display_name": "Python 3",
      "name": "python3"
    },
    "language_info": {
      "name": "python"
    }
  },
  "nbformat": 4,
  "nbformat_minor": 0
}