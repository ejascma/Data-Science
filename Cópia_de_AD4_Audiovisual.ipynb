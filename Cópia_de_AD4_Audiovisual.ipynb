{
  "cells": [
    {
      "cell_type": "markdown",
      "metadata": {
        "id": "view-in-github",
        "colab_type": "text"
      },
      "source": [
        "<a href=\"https://colab.research.google.com/github/ejascma/Data-Science/blob/main/C%C3%B3pia_de_AD4_Audiovisual.ipynb\" target=\"_parent\"><img src=\"https://colab.research.google.com/assets/colab-badge.svg\" alt=\"Open In Colab\"/></a>"
      ]
    },
    {
      "cell_type": "code",
      "execution_count": null,
      "metadata": {
        "id": "ywZwD-9qnp7b"
      },
      "outputs": [],
      "source": [
        "#importando as bibliotecas necessárias\n",
        "import pandas as pd\n",
        "from google.cloud import bigquery\n",
        "from google.colab import auth"
      ]
    },
    {
      "cell_type": "code",
      "execution_count": null,
      "metadata": {
        "id": "6YTjmYPwp4Sz",
        "colab": {
          "base_uri": "https://localhost:8080/"
        },
        "outputId": "4fcf1864-1d6b-43bd-8021-0c7440a14068"
      },
      "outputs": [
        {
          "output_type": "stream",
          "name": "stdout",
          "text": [
            "Autenticado com sucesso.\n"
          ]
        }
      ],
      "source": [
        "#Realizando a autenticação e definindo o projeto\n",
        "auth.authenticate_user()\n",
        "print(\"Autenticado com sucesso.\")\n",
        "project_id = 'ad4-audiovisual'\n",
        "client = bigquery.Client(project=project_id)"
      ]
    },
    {
      "cell_type": "code",
      "execution_count": null,
      "metadata": {
        "id": "AjrrRW_trKPc"
      },
      "outputs": [],
      "source": [
        "#Realizando a consulta no BigQuery\n",
        "query_extracao = client.query('''SELECT snapshot_date, name, artists, daily_rank, daily_movement, weekly_movement, popularity, is_explicit, duration_ms, album_release_date, energy FROM `ad4-audiovisual.spotify.bruto` WHERE country = 'BR';''')"
      ]
    },
    {
      "cell_type": "code",
      "execution_count": null,
      "metadata": {
        "id": "V8xKwoBRHsKd"
      },
      "outputs": [],
      "source": [
        "#Transformando a consulta em um dataframe do Pandas\n",
        "df = query_extracao.to_dataframe()"
      ]
    },
    {
      "cell_type": "code",
      "execution_count": null,
      "metadata": {
        "id": "lmsKDDZAIdGe"
      },
      "outputs": [],
      "source": [
        "#Convertendo o campo de data para o formato adequado\n",
        "df['snapshot_date'] = pd.to_datetime(df['snapshot_date'])\n",
        "\n",
        "#Filtrando pelo mês de janeiro de 2024\n",
        "df = df[(df['snapshot_date'] >= '2024-01-01') & (df['snapshot_date'] <= '2024-01-31')]"
      ]
    },
    {
      "cell_type": "code",
      "execution_count": null,
      "metadata": {
        "id": "VA6ZIMYpIg0f"
      },
      "outputs": [],
      "source": [
        "#Renomeando as colunas\n",
        "novos_nomes = {'snapshot_date':'data','name':'nome','artists':'artistas','daily_rank':'ranking_diario','daily_movement':'movimento_diario','weekly_movement':'movimento_semanal','popularity':'popularidade','is_explicit':'explicito','duration_ms':'duracao','album_release_date':'lancamento','energy':'energia'}\n",
        "df.rename(columns=novos_nomes, inplace=True)\n",
        "\n",
        "#convertendo o campo de lançamento para o formato correto\n",
        "df['lancamento'] = pd.to_datetime(df['lancamento'])\n",
        "display(df)"
      ]
    }
  ],
  "metadata": {
    "colab": {
      "provenance": [],
      "include_colab_link": true
    },
    "kernelspec": {
      "display_name": "Python 3",
      "name": "python3"
    },
    "language_info": {
      "name": "python"
    }
  },
  "nbformat": 4,
  "nbformat_minor": 0
}